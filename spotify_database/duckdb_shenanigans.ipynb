{
 "cells": [
  {
   "cell_type": "markdown",
   "metadata": {},
   "source": [
    "# Spotify Music Library Exploration\n",
    "The goal of this project was to learn working with SQL while finding some interesting insights about my Spotify music library (in this case, all my saved albums and corresponding artists).\n",
    "\n",
    "First, we need to connect to the database to get the access to the data we want to analyze:"
   ]
  },
  {
   "cell_type": "code",
   "execution_count": null,
   "metadata": {},
   "outputs": [],
   "source": [
    "import duckdb\n",
    "con = duckdb.connect(\"database.db\", read_only=True)"
   ]
  },
  {
   "cell_type": "markdown",
   "metadata": {},
   "source": [
    "## Looking at albums and artists:\n",
    "\n",
    "Let us take a look on the structure of the database. We have two tables containing our albums and artists with the corresponding spotify ids and other interesting data. The following two cells show the contents of these tables."
   ]
  },
  {
   "cell_type": "code",
   "execution_count": null,
   "metadata": {},
   "outputs": [],
   "source": [
    "# show artists database\n",
    "con.sql(\"SELECT * FROM artists\").df()"
   ]
  },
  {
   "cell_type": "code",
   "execution_count": null,
   "metadata": {},
   "outputs": [],
   "source": [
    "# show albums database\n",
    "con.sql(\"SELECT * FROM albums\").df()"
   ]
  },
  {
   "cell_type": "markdown",
   "metadata": {},
   "source": [
    "The albums and artist have a many-to-many relationship between each other. Artist can publish many albums and album can be recorded by multiple artists. Each of the album-artist connections is present in the album_artist table, which can be used to connect the artist and albums table to reveal some more interesting information. The following cell shows how to list the artists in an alphabetical order together with the list of their albums."
   ]
  },
  {
   "cell_type": "code",
   "execution_count": null,
   "metadata": {},
   "outputs": [],
   "source": [
    "# show list of artists in alphabetical order and the list of their albums\n",
    "con.sql(\"\"\"\n",
    "        SELECT artists.name AS Artist, LIST(albums.name) as Albums\n",
    "        FROM artists INNER JOIN album_artist ON artists.spotify_id=album_artist.artist_id INNER JOIN albums ON album_artist.album_id=albums.spotify_id\n",
    "        GROUP BY artists.name\n",
    "        ORDER BY artists.name ASC\n",
    "    \"\"\").df()"
   ]
  },
  {
   "cell_type": "markdown",
   "metadata": {},
   "source": [
    "One can use this functionality to find all the albums from a given artist (next cell) or even all other albums by the artist of a given album (the cell after that)."
   ]
  },
  {
   "cell_type": "code",
   "execution_count": null,
   "metadata": {},
   "outputs": [],
   "source": [
    "# find all albums by the given artist\n",
    "given_artist = \"Sufjan Stevens\"\n",
    "con.execute(\"\"\"\n",
    "        SELECT DISTINCT artists.name AS artist_name, albums.name AS album_name  \n",
    "        FROM albums \n",
    "        LEFT JOIN album_artist ON albums.spotify_id=album_artist.album_id\n",
    "        JOIN artists ON album_artist.artist_id=artists.spotify_id\n",
    "        WHERE artist_name = ?\n",
    "        \"\"\", (given_artist,)).df()"
   ]
  },
  {
   "cell_type": "code",
   "execution_count": null,
   "metadata": {},
   "outputs": [],
   "source": [
    "# find artist based on an album and then other albums by that artist\n",
    "analyzed_album = \"softscars\"\n",
    "artist_id = con.execute(\"\"\"        \n",
    "        SELECT DISTINCT artists.spotify_id AS artist_id, artists.name AS artist_name, albums.name AS album_name  \n",
    "        FROM albums \n",
    "        LEFT JOIN album_artist ON albums.spotify_id=album_artist.album_id\n",
    "        JOIN artists ON album_artist.artist_id=artists.spotify_id\n",
    "        WHERE album_name=?;\n",
    "        \"\"\",(analyzed_album,)).df()[\"artist_id\"][0]\n",
    "con.execute(\"\"\"\n",
    "        SELECT DISTINCT artists.name AS artist_name, albums.name AS album_name  \n",
    "        FROM albums \n",
    "        LEFT JOIN album_artist ON albums.spotify_id=album_artist.album_id\n",
    "        JOIN artists ON album_artist.artist_id=artists.spotify_id\n",
    "        WHERE artists.spotify_id=? AND albums.name!=?;\n",
    "        \"\"\",(artist_id, analyzed_album,)).df()"
   ]
  },
  {
   "cell_type": "markdown",
   "metadata": {},
   "source": [
    "We can even use this database to be a bit nostalgic and give us tips on what to listen to. The following cell will randomly pick and show us an album from the given year."
   ]
  },
  {
   "cell_type": "code",
   "execution_count": null,
   "metadata": {},
   "outputs": [],
   "source": [
    "# show random album from a given year\n",
    "year = 2023\n",
    "con.sql(f\"\"\"\n",
    "        SELECT artists.name as artist_name, albums.name as album_name, total_tracks, release_date, added_at, popularity \n",
    "        FROM albums \n",
    "        JOIN album_artist ON albums.spotify_id = album_artist.album_id\n",
    "        JOIN artists ON artists.spotify_id = album_artist.artist_id \n",
    "        WHERE added_at BETWEEN '{year}-01-01 00:00:00.000' AND '{year}-12-31 23:59:59.999' \n",
    "        ORDER BY RANDOM()  \n",
    "        LIMIT 1  \n",
    "        \"\"\").df()"
   ]
  },
  {
   "cell_type": "markdown",
   "metadata": {},
   "source": [
    "## Looking at genres and tags:\n",
    "\n",
    "To make the analysis more interesting, all the genres for each of the artists pulled from spotify were saved in another table. That way, we can see what are the genre trends in our Spotify library. For example, the next cell shows the top 10 genres with a list of corresponding artists."
   ]
  },
  {
   "cell_type": "code",
   "execution_count": null,
   "metadata": {},
   "outputs": [],
   "source": [
    "# show 10 most frequent genres\n",
    "con.sql(\"\"\"\n",
    "        SELECT genre, COUNT(name) AS count, LIST(name) AS artists \n",
    "        FROM artists INNER JOIN artist_genre ON artists.spotify_id=artist_genre.artist_id \n",
    "        GROUP BY genre ORDER BY count DESC LIMIT 10\n",
    "    \"\"\").df()"
   ]
  },
  {
   "cell_type": "markdown",
   "metadata": {},
   "source": [
    "We also obtained the MusicBrainz id for as many artists we could and used those to obtain the LastFM tags of each of the artist for even more insight into the data."
   ]
  },
  {
   "cell_type": "code",
   "execution_count": null,
   "metadata": {},
   "outputs": [],
   "source": [
    "# show \n",
    "con.sql(\"\"\"\n",
    "        SELECT tag, SUM(weight) AS summed_weight, COUNT(name) AS count, LIST(name) AS aritists\n",
    "        FROM artists INNER JOIN artist_tag ON artists.mbid=artist_tag.mbid\n",
    "        GROUP BY tag ORDER BY summed_weight DESC LIMIT 10\n",
    "        \"\"\").df()"
   ]
  },
  {
   "cell_type": "markdown",
   "metadata": {},
   "source": [
    "Having these, we can do all kinds of stuff like trying to find similar artists based on shared genres or tags as shown in the following two cells."
   ]
  },
  {
   "cell_type": "code",
   "execution_count": null,
   "metadata": {},
   "outputs": [],
   "source": [
    "# based on artist, find other artists based on the genre and their albums\n",
    "analyzed_artist = \"AURORA\"\n",
    "genres_list = con.execute(\"\"\"\n",
    "        SELECT genre FROM artists \n",
    "        JOIN artist_genre ON artists.spotify_id = artist_genre.artist_id\n",
    "        WHERE artists.name = ?\n",
    "        \"\"\", (analyzed_artist,)).df()[\"genre\"].to_list()\n",
    "placeholders = \", \".join(\"?\" for _ in genres_list) # create the appropriate number of ? -> ?, ?, ?, ?, ...\n",
    "unknowns = genres_list + [analyzed_artist]\n",
    "con.execute(f\"\"\"\n",
    "        SELECT artists.name, LIST(genre) AS genres, COUNT(genre) AS same_genre_count        \n",
    "        FROM artists \n",
    "        JOIN artist_genre ON artists.spotify_id = artist_genre.artist_id\n",
    "        WHERE genre IN ({placeholders}) AND artists.name != ?\n",
    "        GROUP BY artists.name\n",
    "        ORDER BY same_genre_count DESC\n",
    "        \"\"\", unknowns).df()"
   ]
  },
  {
   "cell_type": "code",
   "execution_count": null,
   "metadata": {},
   "outputs": [],
   "source": [
    "# based on artist, find other artists based on the genre and their albums\n",
    "analyzed_artist = \"AURORA\"\n",
    "threshold = 30\n",
    "tags_list = con.execute(f\"\"\"\n",
    "        SELECT tag FROM artists \n",
    "        JOIN artist_tag ON artists.mbid = artist_tag.mbid\n",
    "        WHERE artists.name = ? AND weight > {threshold}\n",
    "        \"\"\", (analyzed_artist,)).df()[\"tag\"].to_list()\n",
    "placeholders = \", \".join(\"?\" for _ in tags_list) # create the appropriate number of ? -> ?, ?, ?, ?, ...\n",
    "unknowns = tags_list + [analyzed_artist]\n",
    "con.execute(f\"\"\"\n",
    "        SELECT artists.name, LIST(tag) AS tags, SUM(weight) AS same_tag_count        \n",
    "        FROM artists \n",
    "        JOIN artist_tag ON artists.mbid = artist_tag.mbid\n",
    "        WHERE tag IN ({placeholders}) AND artists.name != ? AND weight > {threshold}\n",
    "        GROUP BY artists.name\n",
    "        ORDER BY same_tag_count DESC\n",
    "        \"\"\", unknowns).df()"
   ]
  }
 ],
 "metadata": {
  "kernelspec": {
   "display_name": ".venv",
   "language": "python",
   "name": "python3"
  },
  "language_info": {
   "codemirror_mode": {
    "name": "ipython",
    "version": 3
   },
   "file_extension": ".py",
   "mimetype": "text/x-python",
   "name": "python",
   "nbconvert_exporter": "python",
   "pygments_lexer": "ipython3",
   "version": "3.13.0"
  }
 },
 "nbformat": 4,
 "nbformat_minor": 2
}
